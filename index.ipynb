{
 "cells": [
  {
   "cell_type": "markdown",
   "metadata": {},
   "source": [
    "# Working with Known JSON Schemas - Lab"
   ]
  },
  {
   "cell_type": "markdown",
   "metadata": {},
   "source": [
    "## Introduction\n",
    "In this lab you'll practice working with json files whose schema you know beforehand."
   ]
  },
  {
   "cell_type": "markdown",
   "metadata": {},
   "source": [
    "## Objectives\n",
    "You will be able to:\n",
    "* Read JSON Documentation Schemas and translate into code\n",
    "* Extract data from known json schemas\n",
    "* Write data to predefined JSON schemas"
   ]
  },
  {
   "cell_type": "markdown",
   "metadata": {},
   "source": [
    "## Reading a JSON Schema\n",
    "\n",
    "Here's the JSON schema provided for a section of the NY Times API:\n",
    "<img src=\"nytimes_movie_schema.png\" width=500>\n",
    "\n",
    "or a fully expanded view:\n",
    "\n",
    "<img src=\"nytimes_movie_schema_detailed.png\" width=500>\n",
    "\n",
    "You can see this yourself here:\n",
    "https://developer.nytimes.com/movie_reviews_v2.json#/Documentation/GET/critics/%7Bresource-type%7D.json"
   ]
  },
  {
   "cell_type": "markdown",
   "metadata": {},
   "source": [
    "You can see that the master structure is a dictionary and has a key named 'response'. This is also a dictionary and has two keys: 'data' and 'meta'. As you continue to examine the schema hierarchy, you'll notice the vast majority in this case are dictionaries. "
   ]
  },
  {
   "cell_type": "markdown",
   "metadata": {},
   "source": [
    "## Loading the Data File\n",
    "\n",
    "Start by importing the json file. The sample response from the api is stored in a file **ny_times_movies.json**"
   ]
  },
  {
   "cell_type": "code",
   "execution_count": 6,
   "metadata": {},
   "outputs": [
    {
     "data": {
      "text/html": [
       "<div>\n",
       "<style scoped>\n",
       "    .dataframe tbody tr th:only-of-type {\n",
       "        vertical-align: middle;\n",
       "    }\n",
       "\n",
       "    .dataframe tbody tr th {\n",
       "        vertical-align: top;\n",
       "    }\n",
       "\n",
       "    .dataframe thead th {\n",
       "        text-align: right;\n",
       "    }\n",
       "</style>\n",
       "<table border=\"1\" class=\"dataframe\">\n",
       "  <thead>\n",
       "    <tr style=\"text-align: right;\">\n",
       "      <th></th>\n",
       "      <th>copyright</th>\n",
       "      <th>has_more</th>\n",
       "      <th>num_results</th>\n",
       "      <th>results</th>\n",
       "      <th>status</th>\n",
       "    </tr>\n",
       "  </thead>\n",
       "  <tbody>\n",
       "    <tr>\n",
       "      <th>0</th>\n",
       "      <td>Copyright (c) 2018 The New York Times Company....</td>\n",
       "      <td>True</td>\n",
       "      <td>20</td>\n",
       "      <td>{u'byline': u'A.O. SCOTT', u'headline': u'Revi...</td>\n",
       "      <td>OK</td>\n",
       "    </tr>\n",
       "    <tr>\n",
       "      <th>1</th>\n",
       "      <td>Copyright (c) 2018 The New York Times Company....</td>\n",
       "      <td>True</td>\n",
       "      <td>20</td>\n",
       "      <td>{u'byline': u'BEN KENIGSBERG', u'headline': u'...</td>\n",
       "      <td>OK</td>\n",
       "    </tr>\n",
       "    <tr>\n",
       "      <th>2</th>\n",
       "      <td>Copyright (c) 2018 The New York Times Company....</td>\n",
       "      <td>True</td>\n",
       "      <td>20</td>\n",
       "      <td>{u'byline': u'GLENN KENNY', u'headline': u'Rev...</td>\n",
       "      <td>OK</td>\n",
       "    </tr>\n",
       "    <tr>\n",
       "      <th>3</th>\n",
       "      <td>Copyright (c) 2018 The New York Times Company....</td>\n",
       "      <td>True</td>\n",
       "      <td>20</td>\n",
       "      <td>{u'byline': u'A. O. SCOTT', u'headline': u'Rev...</td>\n",
       "      <td>OK</td>\n",
       "    </tr>\n",
       "    <tr>\n",
       "      <th>4</th>\n",
       "      <td>Copyright (c) 2018 The New York Times Company....</td>\n",
       "      <td>True</td>\n",
       "      <td>20</td>\n",
       "      <td>{u'byline': u'BEN KENIGSBERG', u'headline': u'...</td>\n",
       "      <td>OK</td>\n",
       "    </tr>\n",
       "    <tr>\n",
       "      <th>5</th>\n",
       "      <td>Copyright (c) 2018 The New York Times Company....</td>\n",
       "      <td>True</td>\n",
       "      <td>20</td>\n",
       "      <td>{u'byline': u'A.O. SCOTT', u'headline': u'Revi...</td>\n",
       "      <td>OK</td>\n",
       "    </tr>\n",
       "    <tr>\n",
       "      <th>6</th>\n",
       "      <td>Copyright (c) 2018 The New York Times Company....</td>\n",
       "      <td>True</td>\n",
       "      <td>20</td>\n",
       "      <td>{u'byline': u'GLENN KENNY', u'headline': u'Rev...</td>\n",
       "      <td>OK</td>\n",
       "    </tr>\n",
       "    <tr>\n",
       "      <th>7</th>\n",
       "      <td>Copyright (c) 2018 The New York Times Company....</td>\n",
       "      <td>True</td>\n",
       "      <td>20</td>\n",
       "      <td>{u'byline': u'JEANNETTE CATSOULIS', u'headline...</td>\n",
       "      <td>OK</td>\n",
       "    </tr>\n",
       "    <tr>\n",
       "      <th>8</th>\n",
       "      <td>Copyright (c) 2018 The New York Times Company....</td>\n",
       "      <td>True</td>\n",
       "      <td>20</td>\n",
       "      <td>{u'byline': u'JEANNETTE CATSOULIS', u'headline...</td>\n",
       "      <td>OK</td>\n",
       "    </tr>\n",
       "    <tr>\n",
       "      <th>9</th>\n",
       "      <td>Copyright (c) 2018 The New York Times Company....</td>\n",
       "      <td>True</td>\n",
       "      <td>20</td>\n",
       "      <td>{u'byline': u'BEN KENIGSBERG', u'headline': u'...</td>\n",
       "      <td>OK</td>\n",
       "    </tr>\n",
       "    <tr>\n",
       "      <th>10</th>\n",
       "      <td>Copyright (c) 2018 The New York Times Company....</td>\n",
       "      <td>True</td>\n",
       "      <td>20</td>\n",
       "      <td>{u'byline': u'MANOHLA DARGIS', u'headline': u'...</td>\n",
       "      <td>OK</td>\n",
       "    </tr>\n",
       "    <tr>\n",
       "      <th>11</th>\n",
       "      <td>Copyright (c) 2018 The New York Times Company....</td>\n",
       "      <td>True</td>\n",
       "      <td>20</td>\n",
       "      <td>{u'byline': u'A.O. SCOTT', u'headline': u'Revi...</td>\n",
       "      <td>OK</td>\n",
       "    </tr>\n",
       "    <tr>\n",
       "      <th>12</th>\n",
       "      <td>Copyright (c) 2018 The New York Times Company....</td>\n",
       "      <td>True</td>\n",
       "      <td>20</td>\n",
       "      <td>{u'byline': u'GLENN KENNY', u'headline': u'Rev...</td>\n",
       "      <td>OK</td>\n",
       "    </tr>\n",
       "    <tr>\n",
       "      <th>13</th>\n",
       "      <td>Copyright (c) 2018 The New York Times Company....</td>\n",
       "      <td>True</td>\n",
       "      <td>20</td>\n",
       "      <td>{u'byline': u'KEN JAWOROWSKI', u'headline': u'...</td>\n",
       "      <td>OK</td>\n",
       "    </tr>\n",
       "    <tr>\n",
       "      <th>14</th>\n",
       "      <td>Copyright (c) 2018 The New York Times Company....</td>\n",
       "      <td>True</td>\n",
       "      <td>20</td>\n",
       "      <td>{u'byline': u'TEO BUGBEE', u'headline': u'Revi...</td>\n",
       "      <td>OK</td>\n",
       "    </tr>\n",
       "    <tr>\n",
       "      <th>15</th>\n",
       "      <td>Copyright (c) 2018 The New York Times Company....</td>\n",
       "      <td>True</td>\n",
       "      <td>20</td>\n",
       "      <td>{u'byline': u'KEN JAWOROWSKI', u'headline': u'...</td>\n",
       "      <td>OK</td>\n",
       "    </tr>\n",
       "    <tr>\n",
       "      <th>16</th>\n",
       "      <td>Copyright (c) 2018 The New York Times Company....</td>\n",
       "      <td>True</td>\n",
       "      <td>20</td>\n",
       "      <td>{u'byline': u'GLENN KENNY', u'headline': u'Rev...</td>\n",
       "      <td>OK</td>\n",
       "    </tr>\n",
       "    <tr>\n",
       "      <th>17</th>\n",
       "      <td>Copyright (c) 2018 The New York Times Company....</td>\n",
       "      <td>True</td>\n",
       "      <td>20</td>\n",
       "      <td>{u'byline': u'KEN JAWOROWSKI', u'headline': u'...</td>\n",
       "      <td>OK</td>\n",
       "    </tr>\n",
       "    <tr>\n",
       "      <th>18</th>\n",
       "      <td>Copyright (c) 2018 The New York Times Company....</td>\n",
       "      <td>True</td>\n",
       "      <td>20</td>\n",
       "      <td>{u'byline': u'TEO BUGBEE', u'headline': u'Revi...</td>\n",
       "      <td>OK</td>\n",
       "    </tr>\n",
       "    <tr>\n",
       "      <th>19</th>\n",
       "      <td>Copyright (c) 2018 The New York Times Company....</td>\n",
       "      <td>True</td>\n",
       "      <td>20</td>\n",
       "      <td>{u'byline': u'A.O. SCOTT', u'headline': u'Revi...</td>\n",
       "      <td>OK</td>\n",
       "    </tr>\n",
       "  </tbody>\n",
       "</table>\n",
       "</div>"
      ],
      "text/plain": [
       "                                            copyright  has_more  num_results  \\\n",
       "0   Copyright (c) 2018 The New York Times Company....      True           20   \n",
       "1   Copyright (c) 2018 The New York Times Company....      True           20   \n",
       "2   Copyright (c) 2018 The New York Times Company....      True           20   \n",
       "3   Copyright (c) 2018 The New York Times Company....      True           20   \n",
       "4   Copyright (c) 2018 The New York Times Company....      True           20   \n",
       "5   Copyright (c) 2018 The New York Times Company....      True           20   \n",
       "6   Copyright (c) 2018 The New York Times Company....      True           20   \n",
       "7   Copyright (c) 2018 The New York Times Company....      True           20   \n",
       "8   Copyright (c) 2018 The New York Times Company....      True           20   \n",
       "9   Copyright (c) 2018 The New York Times Company....      True           20   \n",
       "10  Copyright (c) 2018 The New York Times Company....      True           20   \n",
       "11  Copyright (c) 2018 The New York Times Company....      True           20   \n",
       "12  Copyright (c) 2018 The New York Times Company....      True           20   \n",
       "13  Copyright (c) 2018 The New York Times Company....      True           20   \n",
       "14  Copyright (c) 2018 The New York Times Company....      True           20   \n",
       "15  Copyright (c) 2018 The New York Times Company....      True           20   \n",
       "16  Copyright (c) 2018 The New York Times Company....      True           20   \n",
       "17  Copyright (c) 2018 The New York Times Company....      True           20   \n",
       "18  Copyright (c) 2018 The New York Times Company....      True           20   \n",
       "19  Copyright (c) 2018 The New York Times Company....      True           20   \n",
       "\n",
       "                                              results status  \n",
       "0   {u'byline': u'A.O. SCOTT', u'headline': u'Revi...     OK  \n",
       "1   {u'byline': u'BEN KENIGSBERG', u'headline': u'...     OK  \n",
       "2   {u'byline': u'GLENN KENNY', u'headline': u'Rev...     OK  \n",
       "3   {u'byline': u'A. O. SCOTT', u'headline': u'Rev...     OK  \n",
       "4   {u'byline': u'BEN KENIGSBERG', u'headline': u'...     OK  \n",
       "5   {u'byline': u'A.O. SCOTT', u'headline': u'Revi...     OK  \n",
       "6   {u'byline': u'GLENN KENNY', u'headline': u'Rev...     OK  \n",
       "7   {u'byline': u'JEANNETTE CATSOULIS', u'headline...     OK  \n",
       "8   {u'byline': u'JEANNETTE CATSOULIS', u'headline...     OK  \n",
       "9   {u'byline': u'BEN KENIGSBERG', u'headline': u'...     OK  \n",
       "10  {u'byline': u'MANOHLA DARGIS', u'headline': u'...     OK  \n",
       "11  {u'byline': u'A.O. SCOTT', u'headline': u'Revi...     OK  \n",
       "12  {u'byline': u'GLENN KENNY', u'headline': u'Rev...     OK  \n",
       "13  {u'byline': u'KEN JAWOROWSKI', u'headline': u'...     OK  \n",
       "14  {u'byline': u'TEO BUGBEE', u'headline': u'Revi...     OK  \n",
       "15  {u'byline': u'KEN JAWOROWSKI', u'headline': u'...     OK  \n",
       "16  {u'byline': u'GLENN KENNY', u'headline': u'Rev...     OK  \n",
       "17  {u'byline': u'KEN JAWOROWSKI', u'headline': u'...     OK  \n",
       "18  {u'byline': u'TEO BUGBEE', u'headline': u'Revi...     OK  \n",
       "19  {u'byline': u'A.O. SCOTT', u'headline': u'Revi...     OK  "
      ]
     },
     "execution_count": 6,
     "metadata": {},
     "output_type": "execute_result"
    }
   ],
   "source": [
    "import json\n",
    "import pandas as pd\n",
    "f = open('ny_times_movies.json', 'r')\n",
    "data = json.load(f)\n",
    "df = pd.DataFrame(data)\n",
    "df"
   ]
  },
  {
   "cell_type": "markdown",
   "metadata": {},
   "source": [
    "## Loading Specific Data\n",
    "\n",
    "Create a DataFrame of the major data container within the json file, listed under the 'results' heading in the schema above."
   ]
  },
  {
   "cell_type": "code",
   "execution_count": 10,
   "metadata": {},
   "outputs": [],
   "source": [
    "keys=[str(x) for x in df['results'][0].keys()]\n",
    "new_cols=[]\n",
    "\n",
    "for key in keys:\n",
    "    df[key] = df['results'].map(lambda x: x[key])\n"
   ]
  },
  {
   "cell_type": "markdown",
   "metadata": {},
   "source": [
    "## How many unique critics are there?"
   ]
  },
  {
   "cell_type": "code",
   "execution_count": 13,
   "metadata": {},
   "outputs": [
    {
     "data": {
      "text/plain": [
       "{u'height': 140,\n",
       " u'src': u'https://static01.nyt.com/images/2018/10/19/arts/19CANYOUEVER-1/19CANYOUEVER-1-mediumThreeByTwo210.jpg',\n",
       " u'type': u'mediumThreeByTwo210',\n",
       " u'width': 210}"
      ]
     },
     "execution_count": 13,
     "metadata": {},
     "output_type": "execute_result"
    }
   ],
   "source": [
    "df['multimedia'][0]"
   ]
  },
  {
   "cell_type": "markdown",
   "metadata": {},
   "source": [
    "## Create a new column for the review's url. Title the column 'review_url'"
   ]
  },
  {
   "cell_type": "code",
   "execution_count": 16,
   "metadata": {},
   "outputs": [],
   "source": [
    "df['review_url'] = df['link'].map(lambda x: x['url'])"
   ]
  },
  {
   "cell_type": "markdown",
   "metadata": {},
   "source": [
    "## How many results are in the file?"
   ]
  },
  {
   "cell_type": "code",
   "execution_count": 18,
   "metadata": {},
   "outputs": [
    {
     "data": {
      "text/plain": [
       "20"
      ]
     },
     "execution_count": 18,
     "metadata": {},
     "output_type": "execute_result"
    }
   ],
   "source": [
    "len(df)"
   ]
  },
  {
   "cell_type": "markdown",
   "metadata": {},
   "source": [
    "## Summary\n",
    "Well done! Here you continued to gather practice extracting data from JSON files and transforming them into our standard tool of Pandas DataFrames."
   ]
  }
 ],
 "metadata": {
  "kernelspec": {
   "display_name": "Python 3",
   "language": "python",
   "name": "python3"
  },
  "language_info": {
   "codemirror_mode": {
    "name": "ipython",
    "version": 2
   },
   "file_extension": ".py",
   "mimetype": "text/x-python",
   "name": "python",
   "nbconvert_exporter": "python",
   "pygments_lexer": "ipython2",
   "version": "2.7.10"
  }
 },
 "nbformat": 4,
 "nbformat_minor": 2
}
